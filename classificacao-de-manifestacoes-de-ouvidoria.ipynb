{
 "cells": [
  {
   "cell_type": "markdown",
   "metadata": {},
   "source": [
    "# Classificação de manifestações de Ouvidoria usando Processamento de Linguagem Natural"
   ]
  },
  {
   "cell_type": "markdown",
   "metadata": {},
   "source": [
    "**PONTIFÍCIA UNIVERSIDADE CATÓLICA DE MINAS GERAIS**\n",
    "\n",
    "_Pós-graduação Lato Sensu em Inteligência Artificial e Aprendizado de Máquina_\n",
    "\n",
    "Trabalho de Conclusão de Curso apresentado ao Curso de Especialização em Inteligência Artificial e Aprendizado de Máquina, como requisito parcial à obtenção do título de Especialista.\n",
    "\n",
    "Aluno: Felipe Schiavon de Oliveira\n",
    "\n",
    "Data: Abril/2022\n"
   ]
  },
  {
   "cell_type": "markdown",
   "metadata": {
    "cell_id": "b718d6c4-0287-4e33-92aa-bc2bd1f86acf",
    "deepnote_app_coordinates": {
     "h": 5,
     "w": 12,
     "x": 0,
     "y": null
    },
    "deepnote_cell_height": 82,
    "deepnote_cell_type": "text-cell-h1",
    "is_collapsed": false,
    "tags": []
   },
   "source": [
    "# Configurando ambiente para base de dados"
   ]
  },
  {
   "cell_type": "code",
   "execution_count": null,
   "metadata": {
    "cell_id": "914a50a0-73e3-4fa8-88f5-cc83eaca72ea",
    "deepnote_app_coordinates": {
     "h": 5,
     "w": 12,
     "x": 0,
     "y": 18
    },
    "deepnote_cell_height": 135,
    "deepnote_cell_type": "code",
    "deepnote_table_loading": false,
    "deepnote_table_state": {
     "filters": [],
     "pageIndex": 0,
     "pageSize": 10,
     "sortBy": []
    },
    "deepnote_to_be_reexecuted": false,
    "execution_millis": 227,
    "execution_start": 1646694967689,
    "source_hash": "93f4d64",
    "tags": []
   },
   "outputs": [],
   "source": [
    "# Importando pacotes\n",
    "from bs4 import BeautifulSoup as bs\n",
    "import numpy as np\n",
    "import pandas as pd\n",
    "import re\n",
    "import seaborn as sns\n",
    "import matplotlib.pyplot as plt\n",
    "import nltk\n",
    "import unidecode\n",
    "from wordcloud import WordCloud, ImageColorGenerator"
   ]
  },
  {
   "cell_type": "code",
   "execution_count": null,
   "metadata": {},
   "outputs": [],
   "source": [
    "# Desabilitando mensagens de alerta\n",
    "import warnings\n",
    "warnings.filterwarnings('ignore', '.*do not.*', )\n",
    "warnings.warn('Do not show this message')\n",
    "\n",
    "from pandas.core.common import SettingWithCopyWarning\n",
    "warnings.simplefilter(action=\"ignore\", category=SettingWithCopyWarning)"
   ]
  },
  {
   "cell_type": "code",
   "execution_count": null,
   "metadata": {
    "cell_id": "7a98f9d1-478f-4511-b767-bc1947171369",
    "deepnote_app_coordinates": {
     "h": 5,
     "w": 12,
     "x": 0,
     "y": 24
    },
    "deepnote_cell_height": 171,
    "deepnote_cell_type": "code",
    "deepnote_to_be_reexecuted": false,
    "execution_millis": 11,
    "execution_start": 1646694967922,
    "source_hash": "35bb34a2",
    "tags": []
   },
   "outputs": [],
   "source": [
    "# Definindo padrão para mostrar todas as linhas e colunas no pandas\n",
    "pd.set_option('display.max_rows', None)\n",
    "pd.set_option('display.max_columns', None)\n",
    "\n",
    "# Definindo padrão para mostrar conteúdo total nas células do pandas\n",
    "pd.set_option(\"display.max_colwidth\", None)"
   ]
  },
  {
   "cell_type": "markdown",
   "metadata": {
    "cell_id": "c790ffb4-0acc-45b9-8534-f91a565780c5",
    "deepnote_app_coordinates": {
     "h": 5,
     "w": 12,
     "x": 0,
     "y": 30
    },
    "deepnote_cell_height": 82,
    "deepnote_cell_type": "text-cell-h1",
    "is_collapsed": false,
    "tags": []
   },
   "source": [
    "# Ajuste de base de dados"
   ]
  },
  {
   "cell_type": "markdown",
   "metadata": {
    "cell_id": "23c47fe0-f3fd-442d-9488-78cbb3a232de",
    "deepnote_app_coordinates": {
     "h": 5,
     "w": 12,
     "x": 0,
     "y": 36
    },
    "deepnote_cell_height": 70,
    "deepnote_cell_type": "text-cell-h2",
    "is_collapsed": false,
    "tags": []
   },
   "source": [
    "## Leitura e preparação da base"
   ]
  },
  {
   "cell_type": "code",
   "execution_count": null,
   "metadata": {
    "cell_id": "3f83d9b4-4fb9-494b-9dae-ab2364a0830a",
    "deepnote_app_coordinates": {
     "h": 5,
     "w": 12,
     "x": 0,
     "y": 42
    },
    "deepnote_cell_height": 394.796875,
    "deepnote_cell_type": "code",
    "deepnote_to_be_reexecuted": false,
    "execution_millis": 7710,
    "execution_start": 1646694967933,
    "source_hash": "c02f86d3",
    "tags": []
   },
   "outputs": [],
   "source": [
    "# Leitura do dataset\n",
    "df_tj = pd.read_csv('./data/raw/sisouv_manifestacoes.csv', sep=';')\n",
    "df_tj.head()"
   ]
  },
  {
   "cell_type": "code",
   "execution_count": null,
   "metadata": {},
   "outputs": [],
   "source": [
    "# Contagem de registros do Dataframe\n",
    "df_tj['id'].count()"
   ]
  },
  {
   "cell_type": "code",
   "execution_count": null,
   "metadata": {
    "cell_id": "a15a01a8-d854-4f45-927c-a79b6025651b",
    "deepnote_app_coordinates": {
     "h": 5,
     "w": 12,
     "x": 0,
     "y": 48
    },
    "deepnote_cell_height": 309,
    "deepnote_cell_type": "code",
    "deepnote_output_heights": [
     194
    ],
    "deepnote_to_be_reexecuted": false,
    "execution_millis": 3,
    "execution_start": 1646694975716,
    "source_hash": "2cbcb3ea",
    "tags": []
   },
   "outputs": [],
   "source": [
    "# Contagem de registros por tipo de manifestação\n",
    "df_tj['tipoDeManifestacao'].value_counts()"
   ]
  },
  {
   "cell_type": "code",
   "execution_count": null,
   "metadata": {
    "cell_id": "075634bc-19ad-4e40-84c3-415b3c3397bd",
    "deepnote_app_coordinates": {
     "h": 5,
     "w": 12,
     "x": 0,
     "y": 54
    },
    "deepnote_cell_height": 136.1875,
    "deepnote_cell_type": "code",
    "deepnote_output_heights": [
     21.1875
    ],
    "deepnote_to_be_reexecuted": false,
    "execution_millis": 717,
    "execution_start": 1646694975765,
    "source_hash": "b00d4c8",
    "tags": []
   },
   "outputs": [],
   "source": [
    "# Relatos com a string \"Não informado\"\n",
    "len(df_tj.loc[df_tj['relato'] == 'Não Informado', :])"
   ]
  },
  {
   "cell_type": "code",
   "execution_count": null,
   "metadata": {
    "cell_id": "48e8fdfb-307b-4e4d-ac34-4fe03b634ed9",
    "deepnote_app_coordinates": {
     "h": 5,
     "w": 12,
     "x": 0,
     "y": 60
    },
    "deepnote_cell_height": 136.1875,
    "deepnote_cell_type": "code",
    "deepnote_output_heights": [
     21.1875
    ],
    "deepnote_to_be_reexecuted": false,
    "execution_millis": 308,
    "execution_start": 1646694976256,
    "source_hash": "3ba81ec8",
    "tags": []
   },
   "outputs": [],
   "source": [
    "# Total de relatos sem a string \"Não informado\"\n",
    "len(df_tj) - len(df_tj.loc[df_tj['relato'] == 'Não Informado', :])"
   ]
  },
  {
   "cell_type": "code",
   "execution_count": null,
   "metadata": {
    "cell_id": "fc2817e4-4e85-4639-aca6-ce0c7ad88ed2",
    "deepnote_app_coordinates": {
     "h": 5,
     "w": 12,
     "x": 0,
     "y": 66
    },
    "deepnote_cell_height": 309,
    "deepnote_cell_type": "code",
    "deepnote_output_heights": [
     194
    ],
    "deepnote_to_be_reexecuted": false,
    "execution_millis": 148,
    "execution_start": 1646694976537,
    "scrolled": true,
    "source_hash": "383df65e",
    "tags": []
   },
   "outputs": [],
   "source": [
    "# Contagem de registros por tipo de manifestação, excluindo relato \"Não informado\" \n",
    "df_tj.loc[df_tj['relato'] != 'Não Informado', 'tipoDeManifestacao'].value_counts()"
   ]
  },
  {
   "cell_type": "code",
   "execution_count": null,
   "metadata": {
    "cell_id": "66ec5975-3a29-4c04-8f62-469671017d22",
    "deepnote_app_coordinates": {
     "h": 5,
     "w": 12,
     "x": 0,
     "y": 72
    },
    "deepnote_cell_height": 155.375,
    "deepnote_cell_type": "code",
    "deepnote_output_heights": [
     40.390625
    ],
    "deepnote_to_be_reexecuted": false,
    "execution_millis": 11,
    "execution_start": 1646694976954,
    "source_hash": "12f071e6",
    "tags": []
   },
   "outputs": [],
   "source": [
    "# Verificar relato em que tipo de manifestação é INFORMAÇÃO e o relato não é \"Não Informado\"\n",
    "df_tj.loc[(df_tj['relato'] != 'Não Informado') & (df_tj['tipoDeManifestacao'] == 'INFORMACAO'), 'relato']"
   ]
  },
  {
   "cell_type": "code",
   "execution_count": null,
   "metadata": {
    "cell_id": "ee378e0a-5cba-4421-adf3-72b792a23b00",
    "deepnote_app_coordinates": {
     "h": 5,
     "w": 12,
     "x": 0,
     "y": 78
    },
    "deepnote_cell_height": 394.796875,
    "deepnote_cell_type": "code",
    "deepnote_to_be_reexecuted": false,
    "execution_millis": 59,
    "execution_start": 1646694977251,
    "source_hash": "826a5ef2",
    "tags": []
   },
   "outputs": [],
   "source": [
    "# Criar Dataframe excluindo registros em que tipo de manifestação é INFORMACAO ou com relato \"Não Informado\"\n",
    "df_relatos = df_tj.loc[(df_tj['relato'] != 'Não Informado') & (df_tj['tipoDeManifestacao'] != 'INFORMACAO'), :]\n",
    "df_relatos.head()"
   ]
  },
  {
   "cell_type": "code",
   "execution_count": null,
   "metadata": {
    "cell_id": "c022d727-1132-4de3-a098-66d2d58d28fa",
    "deepnote_app_coordinates": {
     "h": 5,
     "w": 12,
     "x": 0,
     "y": 84
    },
    "deepnote_cell_height": 289.78125,
    "deepnote_cell_type": "code",
    "deepnote_output_heights": [
     174.796875
    ],
    "deepnote_to_be_reexecuted": false,
    "execution_millis": 7,
    "execution_start": 1646694977315,
    "source_hash": "1c2e0f8d",
    "tags": []
   },
   "outputs": [],
   "source": [
    "# Contagem de valores do novo Dataframe de acordo com tipo de manifestação\n",
    "df_relatos['tipoDeManifestacao'].value_counts()"
   ]
  },
  {
   "cell_type": "code",
   "execution_count": null,
   "metadata": {
    "cell_id": "01d9d802-23f7-48f9-9eb5-3aee112b3f5d",
    "deepnote_app_coordinates": {
     "h": 5,
     "w": 12,
     "x": 0,
     "y": 90
    },
    "deepnote_cell_height": 136.1875,
    "deepnote_cell_type": "code",
    "deepnote_output_heights": [
     21.1875
    ],
    "deepnote_to_be_reexecuted": false,
    "execution_millis": 7,
    "execution_start": 1646694977324,
    "source_hash": "d25ece42",
    "tags": []
   },
   "outputs": [],
   "source": [
    "# Contagem de registros do novo Dataframe\n",
    "df_relatos['id'].count()"
   ]
  },
  {
   "cell_type": "markdown",
   "metadata": {},
   "source": [
    "### Criando Treemap"
   ]
  },
  {
   "cell_type": "code",
   "execution_count": null,
   "metadata": {},
   "outputs": [],
   "source": [
    "# Obtendo quantidade de regisros por tipo de manifestação\n",
    "df_tj_graf1 = df_relatos['tipoDeManifestacao'].value_counts()\n",
    "df_tj_graf1"
   ]
  },
  {
   "cell_type": "code",
   "execution_count": null,
   "metadata": {},
   "outputs": [],
   "source": [
    "type(df_tj_graf1)"
   ]
  },
  {
   "cell_type": "code",
   "execution_count": null,
   "metadata": {},
   "outputs": [],
   "source": [
    "# Transformando dados em data frame \n",
    "df_tj_graf1 = pd.DataFrame(df_tj_graf1.reset_index())\n",
    "df_tj_graf1.columns = ['tipoDeManifestacao', 'qtdManifestacao']\n",
    "df_tj_graf1"
   ]
  },
  {
   "cell_type": "code",
   "execution_count": null,
   "metadata": {},
   "outputs": [],
   "source": [
    "# Criando gráfico treemap\n",
    "import plotly.express as px\n",
    "import plotly.graph_objects as go\n",
    "\n",
    "fig = px.treemap(df_tj_graf1, path=['tipoDeManifestacao'],\n",
    "                 values='qtdManifestacao')\n",
    "\n",
    "fig.add_trace(go.Treemap(\n",
    "    labels = df_tj_graf1['tipoDeManifestacao'],\n",
    "    values =  df_tj_graf1['qtdManifestacao']))\n",
    "\n",
    "fig.data[0].textinfo = 'label+text+value+percent root'\n",
    "fig.layout.hovermode = False\n",
    "fig.show()"
   ]
  },
  {
   "cell_type": "markdown",
   "metadata": {},
   "source": [
    "### Criando Gráfico de Colunas"
   ]
  },
  {
   "cell_type": "code",
   "execution_count": null,
   "metadata": {},
   "outputs": [],
   "source": [
    "# Criando data frame com tipo de manifestação e ano de cadastro\n",
    "df_tj_graf2 = df_tj[['dataCadastro', 'tipoDeManifestacao']].copy()\n",
    "df_tj_graf2['ano'] = pd.DatetimeIndex(df_tj_graf2['dataCadastro']).year\n",
    "df_tj_graf2.head()"
   ]
  },
  {
   "cell_type": "code",
   "execution_count": null,
   "metadata": {},
   "outputs": [],
   "source": [
    "# Obtendo quantidade de registros por ano de cadastro\n",
    "qtd_manifestacao = pd.DataFrame(df_tj_graf2.groupby(['ano']).size().reset_index())\n",
    "qtd_manifestacao.columns = ['ano', 'qtd']\n",
    "qtd_manifestacao"
   ]
  },
  {
   "cell_type": "code",
   "execution_count": null,
   "metadata": {},
   "outputs": [],
   "source": [
    "# Criando gráfico de coluna\n",
    "plt.figure(figsize=(10,5))\n",
    "\n",
    "ax = sns.barplot(x=\"ano\", y=\"qtd\", data=qtd_manifestacao, color=\"c\")\n",
    "ax.set(xlabel='Ano', ylabel='Quantidade');"
   ]
  },
  {
   "cell_type": "markdown",
   "metadata": {},
   "source": [
    "### Análise de relatos"
   ]
  },
  {
   "cell_type": "code",
   "execution_count": null,
   "metadata": {},
   "outputs": [],
   "source": [
    "# Verificando conteúdo de relatos\n",
    "df_relatos.head(50)"
   ]
  },
  {
   "cell_type": "markdown",
   "metadata": {
    "cell_id": "2f4d22de-0acb-40cc-9ffe-c7ea74f52c2a",
    "deepnote_app_coordinates": {
     "h": 5,
     "w": 12,
     "x": 0,
     "y": 96
    },
    "deepnote_cell_height": 70,
    "deepnote_cell_type": "text-cell-h2",
    "is_collapsed": false,
    "tags": []
   },
   "source": [
    "## Tratamento da base"
   ]
  },
  {
   "cell_type": "markdown",
   "metadata": {
    "cell_id": "3e3c416a-9288-4cd2-a3c4-d0063bbe8ac0",
    "deepnote_app_coordinates": {
     "h": 5,
     "w": 12,
     "x": 0,
     "y": 228
    },
    "deepnote_cell_type": "markdown",
    "tags": []
   },
   "source": [
    "### Remoção HTML"
   ]
  },
  {
   "cell_type": "code",
   "execution_count": null,
   "metadata": {
    "cell_id": "528adf1c-763a-4e7e-bf84-9ea947484b40",
    "deepnote_app_coordinates": {
     "h": 5,
     "w": 12,
     "x": 0,
     "y": 102
    },
    "deepnote_cell_height": 384,
    "deepnote_cell_type": "code",
    "deepnote_output_heights": [
     611
    ],
    "deepnote_to_be_reexecuted": false,
    "execution_millis": 32868,
    "execution_start": 1646694977332,
    "source_hash": "86a65bcb",
    "tags": []
   },
   "outputs": [],
   "source": [
    "# Criando coluna com limpeza de HTML da coluna \"relato\" usando Beautiful Soap\n",
    "df_relatos.loc[:,'relato_limpo'] = df_relatos['relato'].apply(lambda relato: bs(relato).text)\n",
    "\n",
    "df_relatos.head()"
   ]
  },
  {
   "cell_type": "code",
   "execution_count": null,
   "metadata": {},
   "outputs": [],
   "source": [
    "df_relatos.loc[:1000, 'relato_limpo']"
   ]
  },
  {
   "cell_type": "markdown",
   "metadata": {
    "cell_id": "5b67c29f-3e39-45f9-bb29-4b93a1a7a9f8",
    "deepnote_app_coordinates": {
     "h": 5,
     "w": 12,
     "x": 0,
     "y": 234
    },
    "deepnote_cell_type": "markdown",
    "tags": []
   },
   "source": [
    "### Remoção quebras de linha"
   ]
  },
  {
   "cell_type": "code",
   "execution_count": null,
   "metadata": {
    "cell_id": "9924a604-00d2-48c5-92eb-1f21ab7a1b8d",
    "deepnote_app_coordinates": {
     "h": 5,
     "w": 12,
     "x": 0,
     "y": 204
    },
    "deepnote_cell_type": "code",
    "deepnote_to_be_reexecuted": false,
    "execution_millis": 5649,
    "execution_start": 1646695010201,
    "source_hash": "db65ccb",
    "tags": []
   },
   "outputs": [],
   "source": [
    "# Fazendo limpeza de quebra de linha e espaço sem quebra\n",
    "df_relatos['relato_limpo'].replace(to_replace=[r\"\\\\t|\\\\n|\\\\r\", \"\\t|\\n|\\r\", \"\\xa0\"],\n",
    "                                   value=[\" \",\" \",\" \"],\n",
    "                                   regex=True,\n",
    "                                   inplace=True)\n",
    "\n",
    "df_relatos.head()"
   ]
  },
  {
   "cell_type": "markdown",
   "metadata": {
    "cell_id": "9d8e301c-fb2b-4fb3-9652-a37254c307d0",
    "deepnote_app_coordinates": {
     "h": 5,
     "w": 12,
     "x": 0,
     "y": 240
    },
    "deepnote_cell_type": "markdown",
    "tags": []
   },
   "source": [
    "### Remoção de texto padrão de e-mail"
   ]
  },
  {
   "cell_type": "code",
   "execution_count": null,
   "metadata": {
    "cell_id": "818971c7-157e-4832-ab48-a1087290a85a",
    "deepnote_app_coordinates": {
     "h": 5,
     "w": 12,
     "x": 0,
     "y": 114
    },
    "deepnote_cell_height": 230,
    "deepnote_cell_type": "code",
    "deepnote_output_heights": [
     270.796875
    ],
    "deepnote_table_loading": false,
    "deepnote_table_state": {
     "filters": [],
     "pageIndex": 0,
     "pageSize": 10,
     "sortBy": []
    },
    "deepnote_to_be_reexecuted": false,
    "execution_millis": 998,
    "execution_start": 1646695015851,
    "source_hash": "47965629",
    "tags": []
   },
   "outputs": [],
   "source": [
    "# Removendo texto padrão de envio de e-mail da coluna \"relato_limpo\"\n",
    "df_relatos['relato_limpo'] = df_relatos['relato_limpo'].str.replace(r'^.*?Assunto:','',\n",
    "                                                                    regex=True)\n",
    "\n",
    "df_relatos.head()"
   ]
  },
  {
   "cell_type": "markdown",
   "metadata": {
    "cell_id": "649fd560-4b33-4e28-b980-2b4fc1d8cd4a",
    "deepnote_app_coordinates": {
     "h": 5,
     "w": 12,
     "x": 0,
     "y": 258
    },
    "deepnote_cell_type": "markdown",
    "tags": []
   },
   "source": [
    "### Remoção de sinais de pontuação"
   ]
  },
  {
   "cell_type": "code",
   "execution_count": null,
   "metadata": {
    "cell_id": "d132b1b3-a3e1-4359-ab31-3e52eced1f50",
    "deepnote_app_coordinates": {
     "h": 5,
     "w": 12,
     "x": 0,
     "y": 264
    },
    "deepnote_cell_type": "code",
    "deepnote_to_be_reexecuted": false,
    "execution_millis": 1592,
    "execution_start": 1646695016884,
    "source_hash": "347b2da8",
    "tags": []
   },
   "outputs": [],
   "source": [
    "# Removendo sinais de pontuação\n",
    "df_relatos[\"relato_limpo\"] = df_relatos['relato_limpo'].str.replace('[^\\w\\s]+','', regex=True)\n",
    "df_relatos.head()"
   ]
  },
  {
   "cell_type": "markdown",
   "metadata": {
    "cell_id": "577cdb8c-7d99-4265-8dfa-1b0c5dcd5130",
    "deepnote_app_coordinates": {
     "h": 5,
     "w": 12,
     "x": 0,
     "y": 282
    },
    "deepnote_cell_type": "markdown",
    "tags": []
   },
   "source": [
    "### Remoção de excesso de espaços em branco"
   ]
  },
  {
   "cell_type": "code",
   "execution_count": null,
   "metadata": {
    "cell_id": "0e20c3df-07e8-45b7-b740-69365f3861c4",
    "deepnote_app_coordinates": {
     "h": 5,
     "w": 12,
     "x": 0,
     "y": 276
    },
    "deepnote_cell_type": "code",
    "deepnote_to_be_reexecuted": false,
    "execution_millis": 3306,
    "execution_start": 1646695018476,
    "scrolled": true,
    "source_hash": "83a06329",
    "tags": []
   },
   "outputs": [],
   "source": [
    "# Removendo excesso de espaços em branco \n",
    "df_relatos['relato_limpo'] = df_relatos['relato_limpo'].str.replace('\\s{2,100}', ' ', regex=True)\n",
    "df_relatos.iloc[:5, -1]"
   ]
  },
  {
   "cell_type": "code",
   "execution_count": null,
   "metadata": {
    "cell_id": "0fba34ad-df6d-468c-a9dc-b504b35f632b",
    "deepnote_app_coordinates": {
     "h": 5,
     "w": 12,
     "x": 0,
     "y": 108
    },
    "deepnote_cell_type": "code",
    "deepnote_to_be_reexecuted": false,
    "execution_millis": 36,
    "execution_start": 1646695021769,
    "source_hash": "9970b850",
    "tags": []
   },
   "outputs": [],
   "source": [
    "# Verificando os primeiros 20 registros do tipo DUVIDA\n",
    "df_relatos.loc[df_relatos['tipoDeManifestacao'] == 'DUVIDA'].head(20)"
   ]
  },
  {
   "cell_type": "markdown",
   "metadata": {
    "cell_id": "314ca5f8-81d1-4b9f-b4c4-2974991aa648",
    "deepnote_app_coordinates": {
     "h": 5,
     "w": 12,
     "x": 0,
     "y": 252
    },
    "deepnote_cell_type": "markdown",
    "tags": []
   },
   "source": [
    "### Transformação para lowercase"
   ]
  },
  {
   "cell_type": "code",
   "execution_count": null,
   "metadata": {
    "cell_id": "5a43ccc3-d4c9-4695-af8d-b68d270ec824",
    "deepnote_app_coordinates": {
     "h": 5,
     "w": 12,
     "x": 0,
     "y": 222
    },
    "deepnote_cell_type": "code",
    "deepnote_to_be_reexecuted": false,
    "execution_millis": 374,
    "execution_start": 1646695042796,
    "source_hash": "7a8c0f5b",
    "tags": []
   },
   "outputs": [],
   "source": [
    "# Transformando texto para lowercase\n",
    "df_relatos['relato_limpo'] = df_relatos['relato_limpo'].str.lower()"
   ]
  },
  {
   "cell_type": "code",
   "execution_count": null,
   "metadata": {
    "cell_id": "ca5e26a4-378b-4f2b-9d3c-7abfd17463e4",
    "deepnote_app_coordinates": {
     "h": 5,
     "w": 12,
     "x": 0,
     "y": 288
    },
    "deepnote_cell_type": "code",
    "deepnote_to_be_reexecuted": false,
    "execution_millis": 10,
    "execution_start": 1646695043177,
    "scrolled": true,
    "source_hash": "df490922",
    "tags": []
   },
   "outputs": [],
   "source": [
    "# Verificando 10 últimos registros da coluna de relato limpa\n",
    "df_relatos.iloc[0:10, -1]"
   ]
  },
  {
   "cell_type": "markdown",
   "metadata": {
    "cell_id": "b825ebd5-0700-47f7-a034-73ba9494d3a2",
    "deepnote_app_coordinates": {
     "h": 5,
     "w": 12,
     "x": 0,
     "y": 246
    },
    "deepnote_cell_type": "markdown",
    "tags": []
   },
   "source": [
    "### Remoção de stopwords"
   ]
  },
  {
   "cell_type": "code",
   "execution_count": null,
   "metadata": {
    "cell_id": "4586d19b-73e3-49de-99d5-2b9a6fbc3fcc",
    "deepnote_app_coordinates": {
     "h": 5,
     "w": 12,
     "x": 0,
     "y": 210
    },
    "deepnote_cell_type": "code",
    "deepnote_to_be_reexecuted": false,
    "execution_millis": 1177,
    "execution_start": 1646695021826,
    "source_hash": "ada84c02",
    "tags": []
   },
   "outputs": [],
   "source": [
    "# Baixando stopwords\n",
    "nltk.download('stopwords')"
   ]
  },
  {
   "cell_type": "code",
   "execution_count": null,
   "metadata": {
    "cell_id": "4586d19b-73e3-49de-99d5-2b9a6fbc3fcc",
    "deepnote_app_coordinates": {
     "h": 5,
     "w": 12,
     "x": 0,
     "y": 210
    },
    "deepnote_cell_type": "code",
    "deepnote_to_be_reexecuted": false,
    "execution_millis": 1177,
    "execution_start": 1646695021826,
    "source_hash": "ada84c02",
    "tags": []
   },
   "outputs": [],
   "source": [
    "# Carregando stopwords em português\n",
    "from nltk.corpus import stopwords\n",
    "\n",
    "stop_words = stopwords.words('portuguese')\n",
    "stop_words[:10]"
   ]
  },
  {
   "cell_type": "code",
   "execution_count": null,
   "metadata": {},
   "outputs": [],
   "source": [
    "# Adicionando novas stopwords\n",
    "stop_words_adicionais = ['todo', 'todos', 'pois', 'pra', 'nao']\n",
    "stop_words.extend(stop_words_adicionais)"
   ]
  },
  {
   "cell_type": "code",
   "execution_count": null,
   "metadata": {},
   "outputs": [],
   "source": [
    "# Verificando stopwords adicionados\n",
    "stop_words[-5:]"
   ]
  },
  {
   "cell_type": "code",
   "execution_count": null,
   "metadata": {
    "cell_id": "a3c5c705-26fb-4043-93d1-1592bdba1b7f",
    "deepnote_app_coordinates": {
     "h": 5,
     "w": 12,
     "x": 0,
     "y": 216
    },
    "deepnote_cell_type": "code",
    "deepnote_to_be_reexecuted": false,
    "execution_millis": 19763,
    "execution_start": 1646695023008,
    "scrolled": true,
    "source_hash": "526f4c2a",
    "tags": []
   },
   "outputs": [],
   "source": [
    "# Aplicando stopwords à coluna relato_limpo\n",
    "df_relatos['relato_limpo'] = df_relatos['relato_limpo'].apply(lambda x: ' '.join([word for word in x.split() if word not in (stop_words)]))\n",
    "\n",
    "# Verificando alguns exemplos\n",
    "df_relatos.iloc[:5, -1]"
   ]
  },
  {
   "cell_type": "markdown",
   "metadata": {},
   "source": [
    "### Substituindo caracteres com acento"
   ]
  },
  {
   "cell_type": "code",
   "execution_count": null,
   "metadata": {},
   "outputs": [],
   "source": [
    "# Aplicando a remoção de acentos\n",
    "df_relatos['relato_limpo'] = df_relatos['relato_limpo'].apply(lambda relato: unidecode.unidecode(relato))\n",
    "\n",
    "# Verificando alguns exemplos\n",
    "df_relatos.iloc[0:5, -1]"
   ]
  },
  {
   "cell_type": "markdown",
   "metadata": {
    "cell_id": "5b86c5a7-7af5-4a19-a2bf-0f07250ed339",
    "deepnote_app_coordinates": {
     "h": 5,
     "w": 12,
     "x": 0,
     "y": 294
    },
    "deepnote_cell_type": "markdown",
    "tags": []
   },
   "source": [
    "### Mascarando números"
   ]
  },
  {
   "cell_type": "code",
   "execution_count": null,
   "metadata": {
    "cell_id": "f36bdd19-c101-4407-b570-9a0e07fb9f1d",
    "deepnote_app_coordinates": {
     "h": 5,
     "w": 12,
     "x": 0,
     "y": 318
    },
    "deepnote_cell_type": "code",
    "deepnote_to_be_reexecuted": false,
    "execution_millis": 3,
    "execution_start": 1646695043186,
    "scrolled": true,
    "source_hash": "fce453af",
    "tags": []
   },
   "outputs": [],
   "source": [
    "# Inserir código\n",
    "df_relatos['relato_limpo'] = df_relatos['relato_limpo'].str.replace(r\"\\d\", \"\", regex=True)\n",
    "\n",
    "# Verificando alguns exemplos\n",
    "df_relatos.iloc[:5, -1]"
   ]
  },
  {
   "cell_type": "markdown",
   "metadata": {},
   "source": [
    "### Remoção de caracteres únicos"
   ]
  },
  {
   "cell_type": "code",
   "execution_count": null,
   "metadata": {},
   "outputs": [],
   "source": [
    "# Definindo caracteres a serem removidos\n",
    "car_unicos = ['h', 'n', 'b', 'q', 'i', 'ii']\n",
    "\n",
    "# Aplicando caracteres únicos à coluna relato_limpo\n",
    "df_relatos['relato_limpo'] = df_relatos['relato_limpo'].apply(lambda x: ' '.join([word for word in x.split() if word not in (car_unicos)]))\n",
    "\n",
    "# Verificando alguns registros\n",
    "df_relatos.iloc[:5, -1]"
   ]
  },
  {
   "cell_type": "markdown",
   "metadata": {},
   "source": [
    "### Remoção de stopwords novamente"
   ]
  },
  {
   "cell_type": "code",
   "execution_count": null,
   "metadata": {},
   "outputs": [],
   "source": [
    "# Aplicando stopwords à coluna relato_limpo\n",
    "df_relatos['relato_limpo'] = df_relatos['relato_limpo'].apply(lambda x: ' '.join([word for word in x.split() if word not in (stop_words)]))\n",
    "\n",
    "# Verificando alguns exemplos\n",
    "df_relatos.iloc[:5, -1]"
   ]
  },
  {
   "cell_type": "markdown",
   "metadata": {},
   "source": [
    "### Remoção de excesso de espaços em branco"
   ]
  },
  {
   "cell_type": "code",
   "execution_count": null,
   "metadata": {},
   "outputs": [],
   "source": [
    "# Removendo excesso de espaços em branco \n",
    "df_relatos['relato_limpo'] = df_relatos['relato_limpo'].str.replace('\\s{2,100}', ' ', regex=True)\n",
    "df_relatos.iloc[:5, -1]"
   ]
  },
  {
   "cell_type": "markdown",
   "metadata": {},
   "source": [
    "### Criando Wordclouds"
   ]
  },
  {
   "cell_type": "code",
   "execution_count": null,
   "metadata": {},
   "outputs": [],
   "source": [
    "# Verificando recurso para criação de imagem\n",
    "from PIL import features\n",
    "features.check('freetype2')"
   ]
  },
  {
   "cell_type": "markdown",
   "metadata": {},
   "source": [
    "#### Wordcloud Reclamação"
   ]
  },
  {
   "cell_type": "code",
   "execution_count": null,
   "metadata": {},
   "outputs": [],
   "source": [
    "# Criando objeto com textos das manifestações\n",
    "texto_reclamacao = \" \".join(texto for texto in df_relatos[df_relatos[\"tipoDeManifestacao\"] == 'RECLAMACAO'].relato_limpo.astype(str))\n",
    "\n",
    "# Mostrando quantidade de palavras o objeto\n",
    "print (\"Há {} palavras em manifestações de RECLAMACAO.\".format(len(texto_reclamacao)))"
   ]
  },
  {
   "cell_type": "code",
   "execution_count": null,
   "metadata": {},
   "outputs": [],
   "source": [
    "# Verificando 100 palavras mais frequentes\n",
    "from collections import Counter\n",
    "Counter(\" \".join(df_relatos.loc[df_relatos[\"tipoDeManifestacao\"] == 'RECLAMACAO', 'relato_limpo']).split()).most_common(100)"
   ]
  },
  {
   "cell_type": "code",
   "execution_count": null,
   "metadata": {},
   "outputs": [],
   "source": [
    "# Gerando a nuvem de palavras\n",
    "wordcloud = WordCloud(background_color=\"white\", width=800, height=400).generate(texto_reclamacao)\n",
    "\n",
    "# Mostrando a nuvem de palavras\n",
    "plt.figure(figsize=(40,20))\n",
    "plt.tight_layout(pad=0)\n",
    "plt.imshow(wordcloud, interpolation='bilinear')\n",
    "plt.axis(\"off\")\n",
    "plt.show()"
   ]
  },
  {
   "cell_type": "markdown",
   "metadata": {},
   "source": [
    "#### Wordcloud Dúvida"
   ]
  },
  {
   "cell_type": "code",
   "execution_count": null,
   "metadata": {},
   "outputs": [],
   "source": [
    "# Criando objeto com textos das manifestações\n",
    "texto_duvida = \" \".join(texto for texto in df_relatos[df_relatos[\"tipoDeManifestacao\"] == 'DUVIDA'].relato_limpo.astype(str))\n",
    "\n",
    "# Mostrando quantidade de palavras o objeto\n",
    "print (\"Há {} palavras em manifestações de DUVIDA.\".format(len(texto_duvida)))"
   ]
  },
  {
   "cell_type": "code",
   "execution_count": null,
   "metadata": {},
   "outputs": [],
   "source": [
    "# Verificando 100 palavras mais frequentes\n",
    "from collections import Counter\n",
    "Counter(\" \".join(df_relatos.loc[df_relatos[\"tipoDeManifestacao\"] == 'DUVIDA', 'relato_limpo']).split()).most_common(100)"
   ]
  },
  {
   "cell_type": "code",
   "execution_count": null,
   "metadata": {},
   "outputs": [],
   "source": [
    "# Gerando a nuvem de palavras\n",
    "wordcloud = WordCloud(background_color=\"white\", width=800, height=400).generate(texto_duvida)\n",
    "\n",
    "# Mostrando a nuvem de palavras\n",
    "plt.figure(figsize=(40,20))\n",
    "plt.tight_layout(pad=0)\n",
    "plt.imshow(wordcloud, interpolation='bilinear')\n",
    "plt.axis(\"off\")\n",
    "plt.show()"
   ]
  },
  {
   "cell_type": "markdown",
   "metadata": {},
   "source": [
    "#### Wordcloud Elogio"
   ]
  },
  {
   "cell_type": "code",
   "execution_count": null,
   "metadata": {},
   "outputs": [],
   "source": [
    "# Criando objeto com textos das manifestações\n",
    "texto_elogio = \" \".join(texto for texto in df_relatos[df_relatos[\"tipoDeManifestacao\"] == 'ELOGIO'].relato_limpo.astype(str))\n",
    "\n",
    "# Mostrando quantidade de palavras do objeto\n",
    "print (\"Há {} palavras em manifestações de ELOGIO.\".format(len(texto_elogio)))"
   ]
  },
  {
   "cell_type": "code",
   "execution_count": null,
   "metadata": {
    "scrolled": true
   },
   "outputs": [],
   "source": [
    "# Verificando 100 palavras mais frequentes\n",
    "from collections import Counter\n",
    "Counter(\" \".join(df_relatos.loc[df_relatos[\"tipoDeManifestacao\"] == 'ELOGIO', 'relato_limpo']).split()).most_common(100)"
   ]
  },
  {
   "cell_type": "code",
   "execution_count": null,
   "metadata": {},
   "outputs": [],
   "source": [
    "# Gerando a nuvem de palavras\n",
    "wordcloud = WordCloud(background_color=\"white\", width=800, height=400).generate(texto_elogio)\n",
    "\n",
    "# Mostrando a nuvem de palavras\n",
    "plt.figure(figsize=(40,20))\n",
    "plt.tight_layout(pad=0)\n",
    "plt.imshow(wordcloud, interpolation='bilinear')\n",
    "plt.axis(\"off\")\n",
    "plt.show()"
   ]
  },
  {
   "cell_type": "markdown",
   "metadata": {},
   "source": [
    "#### Wordcloud Externa"
   ]
  },
  {
   "cell_type": "code",
   "execution_count": null,
   "metadata": {},
   "outputs": [],
   "source": [
    "# Criando objeto com textos das manifestações\n",
    "texto_externa = \" \".join(texto for texto in df_relatos[df_relatos[\"tipoDeManifestacao\"] == 'EXTERNA'].relato_limpo.astype(str))\n",
    "\n",
    "# Mostrando quantidade de palavras do objeto\n",
    "print (\"Há {} palavras em manifestações de EXTERNA.\".format(len(texto_externa)))"
   ]
  },
  {
   "cell_type": "code",
   "execution_count": null,
   "metadata": {},
   "outputs": [],
   "source": [
    "# Verificando 100 palavras mais frequentes\n",
    "from collections import Counter\n",
    "Counter(\" \".join(df_relatos.loc[df_relatos[\"tipoDeManifestacao\"] == 'EXTERNA', 'relato_limpo']).split()).most_common(100)"
   ]
  },
  {
   "cell_type": "code",
   "execution_count": null,
   "metadata": {
    "scrolled": false
   },
   "outputs": [],
   "source": [
    "# Gerando a nuvem de palavras\n",
    "wordcloud = WordCloud(background_color=\"white\", width=800, height=400).generate(texto_externa)\n",
    "\n",
    "# Mostrando a nuvem de palavras\n",
    "plt.figure(figsize=(40,20))\n",
    "plt.tight_layout(pad=0)\n",
    "plt.imshow(wordcloud, interpolation='bilinear')\n",
    "plt.axis(\"off\")\n",
    "plt.show()"
   ]
  },
  {
   "cell_type": "markdown",
   "metadata": {},
   "source": [
    "#### Wordcloud Outros"
   ]
  },
  {
   "cell_type": "code",
   "execution_count": null,
   "metadata": {},
   "outputs": [],
   "source": [
    "# Criando objeto com textos das manifestações\n",
    "texto_outros = \" \".join(texto for texto in df_relatos[df_relatos[\"tipoDeManifestacao\"] == 'OUTROS'].relato_limpo.astype(str))\n",
    "\n",
    "# Mostrando quantidade de palavras do objeto\n",
    "print (\"Há {} palavras em manifestações de OUTROS.\".format(len(texto_outros)))"
   ]
  },
  {
   "cell_type": "code",
   "execution_count": null,
   "metadata": {},
   "outputs": [],
   "source": [
    "# Verificando 100 palavras mais frequentes\n",
    "from collections import Counter\n",
    "Counter(\" \".join(df_relatos.loc[df_relatos[\"tipoDeManifestacao\"] == 'OUTROS', 'relato_limpo']).split()).most_common(100)"
   ]
  },
  {
   "cell_type": "code",
   "execution_count": null,
   "metadata": {
    "scrolled": true
   },
   "outputs": [],
   "source": [
    "# Gerando a nuvem de palavras\n",
    "wordcloud = WordCloud(background_color=\"white\", width=800, height=400).generate(texto_outros)\n",
    "\n",
    "# Mostrando a nuvem de palavras\n",
    "plt.figure(figsize=(40,20))\n",
    "plt.tight_layout(pad=0)\n",
    "plt.imshow(wordcloud, interpolation='bilinear')\n",
    "plt.axis(\"off\")\n",
    "plt.show()"
   ]
  },
  {
   "cell_type": "markdown",
   "metadata": {},
   "source": [
    "#### Wordcloud Sugestão"
   ]
  },
  {
   "cell_type": "code",
   "execution_count": null,
   "metadata": {
    "scrolled": true
   },
   "outputs": [],
   "source": [
    "# Criando objeto com textos das manifestações\n",
    "texto_sugestao = \" \".join(texto for texto in df_relatos[df_relatos[\"tipoDeManifestacao\"] == 'SUGESTAO'].relato_limpo.astype(str))\n",
    "\n",
    "# Mostrando quantidade de palavras do objeto\n",
    "print (\"Há {} palavras em manifestações de SUGESTAO.\".format(len(texto_sugestao)))"
   ]
  },
  {
   "cell_type": "code",
   "execution_count": null,
   "metadata": {},
   "outputs": [],
   "source": [
    "# Verificando 100 palavras mais frequentes\n",
    "from collections import Counter\n",
    "Counter(\" \".join(df_relatos.loc[df_relatos[\"tipoDeManifestacao\"] == 'SUGESTAO', 'relato_limpo']).split()).most_common(100)"
   ]
  },
  {
   "cell_type": "code",
   "execution_count": null,
   "metadata": {
    "scrolled": true
   },
   "outputs": [],
   "source": [
    "# Gerando a nuvem de palavras\n",
    "wordcloud = WordCloud(background_color=\"white\", width=800, height=400).generate(texto_sugestao)\n",
    "\n",
    "# Mostrando a nuvem de palavras\n",
    "plt.figure(figsize=(40,20))\n",
    "plt.tight_layout(pad=0)\n",
    "plt.imshow(wordcloud, interpolation='bilinear')\n",
    "plt.axis(\"off\")\n",
    "plt.show()"
   ]
  },
  {
   "cell_type": "markdown",
   "metadata": {},
   "source": [
    "#### Wordcloud Acesso à Informação"
   ]
  },
  {
   "cell_type": "code",
   "execution_count": null,
   "metadata": {
    "scrolled": true
   },
   "outputs": [],
   "source": [
    "# Criando objeto com textos das manifestações\n",
    "texto_acessoinformacao = \" \".join(texto for texto in df_relatos[df_relatos[\"tipoDeManifestacao\"] == 'ACESSOINFORMACAO'].relato_limpo.astype(str))\n",
    "\n",
    "# Mostrando quantidade de palavras do objeto\n",
    "print (\"Há {} palavras em manifestações de ACESSOINFORMACAO.\".format(len(texto_acessoinformacao)))"
   ]
  },
  {
   "cell_type": "code",
   "execution_count": null,
   "metadata": {},
   "outputs": [],
   "source": [
    "# Verificando 100 palavras mais frequentes\n",
    "from collections import Counter\n",
    "Counter(\" \".join(df_relatos.loc[df_relatos[\"tipoDeManifestacao\"] == 'ACESSOINFORMACAO', 'relato_limpo']).split()).most_common(100)"
   ]
  },
  {
   "cell_type": "code",
   "execution_count": null,
   "metadata": {},
   "outputs": [],
   "source": [
    "# Gerando a nuvem de palavras\n",
    "wordcloud = WordCloud(background_color=\"white\", width=800, height=400).generate(texto_acessoinformacao)\n",
    "\n",
    "# Mostrando a nuvem de palavras\n",
    "plt.figure(figsize=(40,20))\n",
    "plt.tight_layout(pad=0)\n",
    "plt.imshow(wordcloud, interpolation='bilinear')\n",
    "plt.axis(\"off\")\n",
    "plt.show()"
   ]
  },
  {
   "cell_type": "markdown",
   "metadata": {},
   "source": [
    "#### Wordcloud Denúncia"
   ]
  },
  {
   "cell_type": "code",
   "execution_count": null,
   "metadata": {},
   "outputs": [],
   "source": [
    "# Criando objeto com textos das manifestações\n",
    "texto_denuncia = \" \".join(texto for texto in df_relatos[df_relatos[\"tipoDeManifestacao\"] == 'DENUNCIA'].relato_limpo.astype(str))\n",
    "\n",
    "# Mostrando quantidade de palavras do objeto\n",
    "print (\"Há {} palavras em manifestações de DENUNCIA.\".format(len(texto_denuncia)))"
   ]
  },
  {
   "cell_type": "code",
   "execution_count": null,
   "metadata": {
    "scrolled": true
   },
   "outputs": [],
   "source": [
    "# Verificando 100 palavras mais frequentes\n",
    "from collections import Counter\n",
    "Counter(\" \".join(df_relatos.loc[df_relatos[\"tipoDeManifestacao\"] == 'DENUNCIA', 'relato_limpo']).split()).most_common(100)"
   ]
  },
  {
   "cell_type": "code",
   "execution_count": null,
   "metadata": {},
   "outputs": [],
   "source": [
    "# Gerando a nuvem de palavras\n",
    "wordcloud = WordCloud(background_color=\"white\", width=800, height=400).generate(texto_denuncia)\n",
    "\n",
    "# Mostrando a nuvem de palavras\n",
    "plt.figure(figsize=(40,20))\n",
    "plt.tight_layout(pad=0)\n",
    "plt.imshow(wordcloud, interpolation='bilinear')\n",
    "plt.axis(\"off\")\n",
    "plt.show()"
   ]
  },
  {
   "cell_type": "markdown",
   "metadata": {
    "cell_id": "aa7eeb44-f5d8-48a9-864b-bfd9c90a62cd",
    "deepnote_app_coordinates": {
     "h": 5,
     "w": 12,
     "x": 0,
     "y": 300
    },
    "deepnote_cell_type": "markdown",
    "tags": []
   },
   "source": [
    "### Stemming"
   ]
  },
  {
   "cell_type": "code",
   "execution_count": null,
   "metadata": {
    "cell_id": "adbb24e5-9430-41a3-81b0-05b14b7fb9f6",
    "deepnote_app_coordinates": {
     "h": 5,
     "w": 12,
     "x": 0,
     "y": 312
    },
    "deepnote_cell_type": "code",
    "deepnote_to_be_reexecuted": false,
    "execution_millis": 1,
    "execution_start": 1646695043232,
    "source_hash": "90aef25a",
    "tags": []
   },
   "outputs": [],
   "source": [
    "# Importando pacote\n",
    "import nltk\n",
    "nltk.download('rslp')"
   ]
  },
  {
   "cell_type": "code",
   "execution_count": null,
   "metadata": {},
   "outputs": [],
   "source": [
    "from functools import lru_cache\n",
    "\n",
    "@lru_cache(maxsize=128)\n",
    "def stemming_portugues(texto, stemmer):\n",
    "    lista_palavras = texto.split()\n",
    "    lista_stems = []\n",
    "    \n",
    "    for palavra in lista_palavras:\n",
    "        lista_stems.append(stemmer.stem(palavra))\n",
    "    \n",
    "    return ' '.join(lista_stems)"
   ]
  },
  {
   "cell_type": "code",
   "execution_count": null,
   "metadata": {
    "scrolled": true
   },
   "outputs": [],
   "source": [
    "stemmer = nltk.stem.RSLPStemmer()\n",
    "\n",
    "df_relatos['relato_stemm'] = df_relatos['relato_limpo'].apply(lambda palavra: stemming_portugues(palavra, stemmer))\n",
    "\n",
    "df_relatos.iloc[:5, -1]"
   ]
  },
  {
   "cell_type": "code",
   "execution_count": null,
   "metadata": {
    "scrolled": false
   },
   "outputs": [],
   "source": [
    "df_relatos.iloc[:5, 8:11]"
   ]
  },
  {
   "cell_type": "markdown",
   "metadata": {
    "cell_id": "331fb272-4594-4528-87b1-abcbc5a3810b",
    "deepnote_app_coordinates": {
     "h": 5,
     "w": 12,
     "x": 0,
     "y": 138
    },
    "deepnote_cell_height": 82,
    "deepnote_cell_type": "text-cell-h1",
    "is_collapsed": false,
    "tags": []
   },
   "source": [
    "# Ajuste de base de dados para fastText"
   ]
  },
  {
   "cell_type": "code",
   "execution_count": null,
   "metadata": {
    "cell_id": "49f9b3c8-39c1-459c-bea3-9593d0503458",
    "deepnote_app_coordinates": {
     "h": 5,
     "w": 12,
     "x": 0,
     "y": 144
    },
    "deepnote_cell_height": 230,
    "deepnote_cell_type": "code",
    "deepnote_to_be_reexecuted": false,
    "execution_millis": 53,
    "execution_start": 1646695094088,
    "source_hash": "ef1ab037",
    "tags": []
   },
   "outputs": [],
   "source": [
    "# Criando coluna com label e relato juntos para treinamento no fastText\n",
    "df_relatos['label_texto'] = '__label__' + df_relatos['tipoDeManifestacao'] + ' ' + df_relatos['relato_stemm']"
   ]
  },
  {
   "cell_type": "code",
   "execution_count": null,
   "metadata": {
    "cell_id": "00100b0a-be07-4221-832b-671ab7ab5932",
    "deepnote_app_coordinates": {
     "h": 5,
     "w": 12,
     "x": 0,
     "y": 150
    },
    "deepnote_cell_type": "code",
    "deepnote_to_be_reexecuted": false,
    "execution_millis": 19,
    "execution_start": 1646695094149,
    "source_hash": "78a9dadc",
    "tags": []
   },
   "outputs": [],
   "source": [
    "df_relatos['label_texto'].tail(20)"
   ]
  },
  {
   "cell_type": "code",
   "execution_count": null,
   "metadata": {
    "cell_id": "3febdb51-337c-4cbd-9077-40f35d082a56",
    "deepnote_app_coordinates": {
     "h": 5,
     "w": 12,
     "x": 0,
     "y": 156
    },
    "deepnote_cell_height": 154.1875,
    "deepnote_cell_type": "code",
    "deepnote_output_heights": [
     21.1875
    ],
    "deepnote_to_be_reexecuted": false,
    "execution_millis": 8,
    "execution_start": 1646695094166,
    "source_hash": "352a3b16",
    "tags": []
   },
   "outputs": [],
   "source": [
    "# Criando dataframe com label e texto juntos\n",
    "df_fasttext = df_relatos['label_texto']"
   ]
  },
  {
   "cell_type": "code",
   "execution_count": null,
   "metadata": {
    "cell_id": "b2f4781e-e92e-4804-92ff-9ca9680512d5",
    "deepnote_app_coordinates": {
     "h": 5,
     "w": 12,
     "x": 0,
     "y": 162
    },
    "deepnote_cell_height": 99,
    "deepnote_cell_type": "code",
    "deepnote_to_be_reexecuted": false,
    "execution_millis": 954,
    "execution_start": 1646695094176,
    "source_hash": "348ee227",
    "tags": []
   },
   "outputs": [],
   "source": [
    "# Salvando arquivo txt com label e texto juntos\n",
    "df_fasttext.to_csv('data/processed/label_texto.txt', index=False)"
   ]
  },
  {
   "cell_type": "markdown",
   "metadata": {
    "cell_id": "2ca25996-9033-4d4b-bdee-699c628685fc",
    "deepnote_app_coordinates": {
     "h": 5,
     "w": 12,
     "x": 0,
     "y": 168
    },
    "deepnote_cell_type": "text-cell-h1",
    "is_collapsed": false,
    "tags": []
   },
   "source": [
    "# Treinamento"
   ]
  },
  {
   "cell_type": "code",
   "execution_count": null,
   "metadata": {
    "cell_id": "02885d17-6c3e-4e4e-865c-2950e66d11eb",
    "deepnote_app_coordinates": {
     "h": 5,
     "w": 12,
     "x": 0,
     "y": 336
    },
    "deepnote_cell_type": "code",
    "deepnote_to_be_reexecuted": false,
    "execution_millis": 6,
    "execution_start": 1646695095134,
    "source_hash": "1fd9c4ee",
    "tags": []
   },
   "outputs": [],
   "source": [
    "# Importanto biblioteca\n",
    "import fasttext"
   ]
  },
  {
   "cell_type": "code",
   "execution_count": null,
   "metadata": {
    "cell_id": "32afd141-325b-4df5-93d4-2fd3ee0686f4",
    "deepnote_app_coordinates": {
     "h": 5,
     "w": 12,
     "x": 0,
     "y": 0
    },
    "deepnote_cell_type": "code",
    "tags": []
   },
   "outputs": [],
   "source": [
    "# Realizando a divisão de dados entre treino (80%) e teste (20%)\n",
    "from sklearn.model_selection import train_test_split\n",
    "\n",
    "X_train, X_test, y_train, y_test = train_test_split(df_relatos['label_texto'], df_relatos['tipoDeManifestacao'], test_size=0.2, stratify=df_relatos['tipoDeManifestacao'].values)\n",
    "\n",
    "X_train.shape, X_test.shape, y_train.shape, y_test.shape"
   ]
  },
  {
   "cell_type": "code",
   "execution_count": null,
   "metadata": {
    "scrolled": true
   },
   "outputs": [],
   "source": [
    "# Verificando dados de treino\n",
    "X_train.head()"
   ]
  },
  {
   "cell_type": "markdown",
   "metadata": {
    "cell_id": "83ac618a-3c98-4f39-945d-e352f348fa79",
    "deepnote_app_coordinates": {
     "h": 5,
     "w": 12,
     "x": 0,
     "y": 324
    },
    "deepnote_cell_type": "markdown",
    "tags": []
   },
   "source": [
    "## Modelo simples"
   ]
  },
  {
   "cell_type": "code",
   "execution_count": null,
   "metadata": {},
   "outputs": [],
   "source": [
    "# Importando biblioteca para realizar divisão estratificada de folds \n",
    "from sklearn.model_selection import StratifiedKFold\n",
    "\n",
    "# Criando função para realizar a validação cruzada\n",
    "def validacao_cruzada(X, y, parametros_modelo=None):\n",
    "    \"\"\"\n",
    "    Função para rodar validação cruzada com kfold em estratos (amostragem extratificada)\n",
    "    \"\"\"\n",
    "    \n",
    "    resultados = []\n",
    "    \n",
    "    # 5 splits\n",
    "    skfold = StratifiedKFold(n_splits=5)\n",
    "    \n",
    "    # para cada, uma iteração com os índices\n",
    "    for train_index, test_index in skfold.split(X, y):\n",
    "        X_train, X_test = X.iloc[train_index, :], X.iloc[test_index, :]\n",
    "\n",
    "        # não utilizou-se o y porque o label já está no x\n",
    "        # y_train, y_test = y[train_index], y[test_index]\n",
    "        \n",
    "        # o fasttext só aceita input de arquivos, então temos que salvar\n",
    "        X_train.to_csv('data/train/manifestacao.train', header=False, index=False)\n",
    "        X_test.to_csv('data/train/manifestacao.valid', header=False, index=False)\n",
    "    \n",
    "        # se foram passados parâmetros, mandar kwargs para o treinamento\n",
    "        if parametros_modelo:\n",
    "            modelo = fasttext.train_supervised(input=\"data/train/manifestacao.train\", **parametros_modelo)    \n",
    "        else:\n",
    "            modelo = fasttext.train_supervised(input=\"data/train/manifestacao.train\")\n",
    "            \n",
    "        resultado = modelo.test(\"data/train/manifestacao.valid\")\n",
    "        print(f'Resultado: {resultado}')\n",
    "        resultados.append(resultado[1])\n",
    "    \n",
    "    return resultados"
   ]
  },
  {
   "cell_type": "code",
   "execution_count": null,
   "metadata": {},
   "outputs": [],
   "source": [
    "type(X_train)"
   ]
  },
  {
   "cell_type": "code",
   "execution_count": null,
   "metadata": {},
   "outputs": [],
   "source": [
    "X_test.str.extract(\"__label__(.*?) \").value_counts()"
   ]
  },
  {
   "cell_type": "markdown",
   "metadata": {},
   "source": [
    "## Treinamentos com diferentes hiperparâmetros"
   ]
  },
  {
   "cell_type": "markdown",
   "metadata": {},
   "source": [
    "### Treinamento 1 (padrão)"
   ]
  },
  {
   "cell_type": "code",
   "execution_count": null,
   "metadata": {},
   "outputs": [],
   "source": [
    "%%time\n",
    "\n",
    "# Precisamos passar como dataframe\n",
    "resultado = validacao_cruzada(X_train.to_frame(), y_train)\n",
    "resultado"
   ]
  },
  {
   "cell_type": "code",
   "execution_count": null,
   "metadata": {},
   "outputs": [],
   "source": [
    "np.array(resultado).mean()"
   ]
  },
  {
   "cell_type": "markdown",
   "metadata": {},
   "source": [
    "### Treinamento 2"
   ]
  },
  {
   "cell_type": "code",
   "execution_count": null,
   "metadata": {},
   "outputs": [],
   "source": [
    "%%time\n",
    "\n",
    "# Tunagem de hiperparametros, aumentando ngrams para 3 e épocas para 20\n",
    "hyper_params = {\"epoch\": 20,\n",
    "    \"wordNgrams\": 3,\n",
    "    \"dim\": 100\n",
    "}\n",
    "\n",
    "resultado = validacao_cruzada(X_train.to_frame(), y_train, hyper_params)\n",
    "resultado"
   ]
  },
  {
   "cell_type": "code",
   "execution_count": null,
   "metadata": {},
   "outputs": [],
   "source": [
    "np.array(resultado).mean()"
   ]
  },
  {
   "cell_type": "markdown",
   "metadata": {},
   "source": [
    "### Treinamento 3"
   ]
  },
  {
   "cell_type": "code",
   "execution_count": null,
   "metadata": {},
   "outputs": [],
   "source": [
    "%%time\n",
    "\n",
    "# Tunagem de hiperparametros, aumentando ngrams para 3 e épocas para 50\n",
    "\n",
    "hyper_params = {\"epoch\": 50,\n",
    "    \"wordNgrams\": 3,\n",
    "    \"dim\": 100\n",
    "}\n",
    "\n",
    "resultado = validacao_cruzada(X_train.to_frame(), y_train, hyper_params)\n",
    "resultado"
   ]
  },
  {
   "cell_type": "code",
   "execution_count": null,
   "metadata": {},
   "outputs": [],
   "source": [
    "np.array(resultado).mean()"
   ]
  },
  {
   "cell_type": "markdown",
   "metadata": {},
   "source": [
    "### Treinamento 4"
   ]
  },
  {
   "cell_type": "code",
   "execution_count": null,
   "metadata": {},
   "outputs": [],
   "source": [
    "%%time\n",
    "# Tunagem de hiperparametros, aumentando ngrams para 4 e épocas para 50\n",
    "\n",
    "hyper_params = {\"epoch\": 50,\n",
    "    \"wordNgrams\": 4,\n",
    "    \"dim\": 100\n",
    "}\n",
    "\n",
    "resultado = validacao_cruzada(X_train.to_frame(), y_train, hyper_params)\n",
    "resultado"
   ]
  },
  {
   "cell_type": "code",
   "execution_count": null,
   "metadata": {},
   "outputs": [],
   "source": [
    "np.array(resultado).mean()"
   ]
  },
  {
   "cell_type": "markdown",
   "metadata": {},
   "source": [
    "### Treinamento 5"
   ]
  },
  {
   "cell_type": "code",
   "execution_count": null,
   "metadata": {},
   "outputs": [],
   "source": [
    "%%time\n",
    "# Tunagem de hiperparametros, aumentando dimensao dos embeddings para 200, ngrams para 3 e epocas para 20\n",
    "\n",
    "hyper_params = {\"epoch\": 20,\n",
    "    \"wordNgrams\": 3,\n",
    "    \"dim\": 200\n",
    "}\n",
    "\n",
    "resultado = validacao_cruzada(X_train.to_frame(), y_train, hyper_params)\n",
    "resultado"
   ]
  },
  {
   "cell_type": "code",
   "execution_count": null,
   "metadata": {},
   "outputs": [],
   "source": [
    "np.array(resultado).mean()"
   ]
  },
  {
   "cell_type": "markdown",
   "metadata": {},
   "source": [
    "### Treinamento 6"
   ]
  },
  {
   "cell_type": "code",
   "execution_count": null,
   "metadata": {},
   "outputs": [],
   "source": [
    "%%time\n",
    "# Tunagem de hiperparametros, aumentando ngrams para 3 e épocas para 20\n",
    "\n",
    "hyper_params = {\"epoch\": 20,\n",
    "    \"wordNgrams\": 3,\n",
    "    \"dim\": 100,\n",
    "    \"lr\": 0.01\n",
    "}\n",
    "\n",
    "resultado = validacao_cruzada(X_train.to_frame(), y_train, hyper_params)\n",
    "resultado"
   ]
  },
  {
   "cell_type": "code",
   "execution_count": null,
   "metadata": {},
   "outputs": [],
   "source": [
    "np.array(resultado).mean()"
   ]
  },
  {
   "cell_type": "markdown",
   "metadata": {},
   "source": [
    "### Treinamento 7"
   ]
  },
  {
   "cell_type": "code",
   "execution_count": null,
   "metadata": {},
   "outputs": [],
   "source": [
    "%%time\n",
    "# Tunagem de hiperparametros, aumentando ngrams para 3 e épocas para 20\n",
    "\n",
    "hyper_params = {\"epoch\": 50,\n",
    "    \"wordNgrams\": 3,\n",
    "    \"dim\": 100,\n",
    "    \"lr\": 0.01\n",
    "}\n",
    "\n",
    "resultado = validacao_cruzada(X_train.to_frame(), y_train, hyper_params)\n",
    "\n",
    "resultado"
   ]
  },
  {
   "cell_type": "code",
   "execution_count": null,
   "metadata": {},
   "outputs": [],
   "source": [
    "np.array(resultado).mean()"
   ]
  },
  {
   "cell_type": "markdown",
   "metadata": {},
   "source": [
    "### Treinamento 8"
   ]
  },
  {
   "cell_type": "code",
   "execution_count": null,
   "metadata": {},
   "outputs": [],
   "source": [
    "%%time\n",
    "# Tunagem de hiperparametros\n",
    "\n",
    "hyper_params = {\"epoch\": 20,\n",
    "    \"wordNgrams\": 3,\n",
    "    \"dim\": 100,\n",
    "    \"lr\": 0.1\n",
    "}\n",
    "\n",
    "resultado = validacao_cruzada(X_train.to_frame(), y_train, hyper_params)\n",
    "resultado"
   ]
  },
  {
   "cell_type": "code",
   "execution_count": null,
   "metadata": {},
   "outputs": [],
   "source": [
    "np.array(resultado).mean()"
   ]
  },
  {
   "cell_type": "markdown",
   "metadata": {},
   "source": [
    "### Treinamento 9"
   ]
  },
  {
   "cell_type": "code",
   "execution_count": null,
   "metadata": {},
   "outputs": [],
   "source": [
    "%%time\n",
    "# Tunagem de hiperparametros\n",
    "\n",
    "hyper_params = {\"epoch\": 20,\n",
    "    \"wordNgrams\": 3,\n",
    "    \"dim\": 100,\n",
    "    \"lr\": 0.2\n",
    "}\n",
    "\n",
    "resultado = validacao_cruzada(X_train.to_frame(), y_train, hyper_params)\n",
    "resultado"
   ]
  },
  {
   "cell_type": "code",
   "execution_count": null,
   "metadata": {},
   "outputs": [],
   "source": [
    "np.array(resultado).mean()"
   ]
  },
  {
   "cell_type": "markdown",
   "metadata": {},
   "source": [
    "### Treinamento 10"
   ]
  },
  {
   "cell_type": "code",
   "execution_count": null,
   "metadata": {},
   "outputs": [],
   "source": [
    "%%time\n",
    "# Tunagem de hiperparametros\n",
    "\n",
    "hyper_params = {\"epoch\": 20,\n",
    "    \"wordNgrams\": 3,\n",
    "    \"dim\": 50,\n",
    "    \"lr\": 0.2\n",
    "}\n",
    "\n",
    "resultado = validacao_cruzada(X_train.to_frame(), y_train, hyper_params)\n",
    "resultado"
   ]
  },
  {
   "cell_type": "code",
   "execution_count": null,
   "metadata": {},
   "outputs": [],
   "source": [
    "np.array(resultado).mean()"
   ]
  },
  {
   "cell_type": "markdown",
   "metadata": {
    "cell_id": "708ddb56-1bb6-4512-893f-586962e0424e",
    "deepnote_app_coordinates": {
     "h": 5,
     "w": 12,
     "x": 0,
     "y": 330
    },
    "deepnote_cell_type": "markdown",
    "tags": []
   },
   "source": [
    "# Modelo final\n",
    "\n",
    "A partir do modelo final, escolhido com base nos valores de cross validation, treinamos com a base de treino toda."
   ]
  },
  {
   "cell_type": "code",
   "execution_count": null,
   "metadata": {},
   "outputs": [],
   "source": [
    "# Definindo base de treino e base de teste\n",
    "X_train.to_csv('data/train/manifestacao.train', header=False, index=False)\n",
    "X_test.to_csv('data/train/manifestacao.test', header=False, index=False)"
   ]
  },
  {
   "cell_type": "code",
   "execution_count": null,
   "metadata": {
    "cell_id": "44041fc7-2071-4b06-aadc-54316ae961ff",
    "deepnote_app_coordinates": {
     "h": 5,
     "w": 12,
     "x": 0,
     "y": 180
    },
    "deepnote_cell_type": "code",
    "deepnote_to_be_reexecuted": false,
    "execution_millis": 66797,
    "execution_start": 1646695102767,
    "source_hash": "37e788c",
    "tags": []
   },
   "outputs": [],
   "source": [
    "# Definindo hiperparâmetros para treino do modelo final\n",
    "melhores_hiperparametros = {\"epoch\": 20,\n",
    "    \"wordNgrams\": 3,\n",
    "    \"dim\": 50,\n",
    "    \"lr\": 0.2\n",
    "}\n",
    "\n",
    "# Treinando modelo final\n",
    "model_final = fasttext.train_supervised(input=\"data/train/manifestacao.train\", **melhores_hiperparametros)"
   ]
  },
  {
   "cell_type": "code",
   "execution_count": null,
   "metadata": {
    "allow_embed": false,
    "cell_id": "00057-66afc8f6-6ef8-4f22-8de8-ae7c0d9aabf4",
    "deepnote_app_coordinates": {
     "h": 5,
     "w": 12,
     "x": 0,
     "y": 354
    },
    "deepnote_cell_type": "code",
    "deepnote_to_be_reexecuted": false,
    "execution_millis": 1,
    "execution_start": 1646695298380,
    "source_hash": "67d5940d",
    "tags": []
   },
   "outputs": [],
   "source": [
    "# Salvando o modelo final na pasta model\n",
    "model_final.save_model(\"model/model_tun.bin\")"
   ]
  },
  {
   "cell_type": "code",
   "execution_count": null,
   "metadata": {
    "cell_id": "8e623a9c-96bd-445c-a14f-1448838c9060",
    "deepnote_app_coordinates": {
     "h": 5,
     "w": 12,
     "x": 0,
     "y": 366
    },
    "deepnote_cell_type": "code",
    "deepnote_to_be_reexecuted": false,
    "execution_millis": 7,
    "execution_start": 1646695305627,
    "scrolled": true,
    "source_hash": "8ff0614e",
    "tags": []
   },
   "outputs": [],
   "source": [
    "# Verificando precisão do modelo final\n",
    "model_final.test(\"data/train/manifestacao.test\")"
   ]
  },
  {
   "cell_type": "code",
   "execution_count": null,
   "metadata": {
    "cell_id": "98bb9c0a-901c-4f86-b241-43dee7255b99",
    "deepnote_app_coordinates": {
     "h": 5,
     "w": 12,
     "x": 0,
     "y": 198
    },
    "deepnote_cell_type": "code",
    "deepnote_to_be_reexecuted": false,
    "execution_millis": 11,
    "execution_start": 1646695308211,
    "source_hash": "4c9682b8",
    "tags": []
   },
   "outputs": [],
   "source": [
    "# Verificando precisão do modelo final\n",
    "model_final.test_label(\"data/train/manifestacao.test\")"
   ]
  },
  {
   "cell_type": "markdown",
   "metadata": {},
   "source": [
    "# Modelo de produção\n",
    "\n",
    "Como o resultado no teste foi satisfatório, podemos retreinar o modelo com os melhores hiperparâmetros com a base completa"
   ]
  },
  {
   "cell_type": "code",
   "execution_count": null,
   "metadata": {},
   "outputs": [],
   "source": [
    "# Contatenando dados de treino e teste para obter base completa\n",
    "base_completa = pd.concat([X_train, X_test], axis=0)\n",
    "base_completa.shape"
   ]
  },
  {
   "cell_type": "code",
   "execution_count": null,
   "metadata": {},
   "outputs": [],
   "source": [
    "# Criando arquivo CSV com base completa\n",
    "base_completa.to_csv('data/train/manifestacao.train', header=False, index=False)"
   ]
  },
  {
   "cell_type": "code",
   "execution_count": null,
   "metadata": {},
   "outputs": [],
   "source": [
    "# Treinando modelo de produção\n",
    "modelo_producao = fasttext.train_supervised(input=\"data/train/manifestacao.train\", **melhores_hiperparametros)"
   ]
  },
  {
   "cell_type": "code",
   "execution_count": null,
   "metadata": {},
   "outputs": [],
   "source": [
    "# Salvando o modelo de produção\n",
    "modelo_producao.save_model(\"models/production_model.bin\")"
   ]
  }
 ],
 "metadata": {
  "deepnote": {
   "is_reactive": false
  },
  "deepnote_app_layout": "article",
  "deepnote_execution_queue": [],
  "deepnote_notebook_id": "b1d75cea-822a-47c1-ba10-53681d6f601d",
  "kernelspec": {
   "display_name": "Python 3",
   "language": "python",
   "name": "python3"
  },
  "language_info": {
   "codemirror_mode": {
    "name": "ipython",
    "version": 3
   },
   "file_extension": ".py",
   "mimetype": "text/x-python",
   "name": "python",
   "nbconvert_exporter": "python",
   "pygments_lexer": "ipython3",
   "version": "3.7.6"
  }
 },
 "nbformat": 4,
 "nbformat_minor": 2
}
